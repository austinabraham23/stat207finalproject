{
 "cells": [
  {
   "cell_type": "markdown",
   "metadata": {},
   "source": [
    "# STAT207 Final Project - Predicting Sequel\n",
    "\n",
    "\n",
    "Austin Abraham, Kaiwen Chen, Laila Shaaban, Linh Pham"
   ]
  },
  {
   "cell_type": "code",
   "execution_count": 2,
   "metadata": {},
   "outputs": [],
   "source": [
    "#Imports here\n",
    "import pandas as pd\n",
    "import numpy as np\n",
    "import seaborn as sns"
   ]
  },
  {
   "cell_type": "markdown",
   "metadata": {},
   "source": [
    "## 1. Introduction"
   ]
  },
  {
   "cell_type": "markdown",
   "metadata": {},
   "source": []
  },
  {
   "cell_type": "markdown",
   "metadata": {},
   "source": [
    "## 2. Dataset Discussion"
   ]
  },
  {
   "cell_type": "markdown",
   "metadata": {},
   "source": []
  },
  {
   "cell_type": "code",
   "execution_count": 10,
   "metadata": {},
   "outputs": [
    {
     "data": {
      "text/html": [
       "<div>\n",
       "<style scoped>\n",
       "    .dataframe tbody tr th:only-of-type {\n",
       "        vertical-align: middle;\n",
       "    }\n",
       "\n",
       "    .dataframe tbody tr th {\n",
       "        vertical-align: top;\n",
       "    }\n",
       "\n",
       "    .dataframe thead th {\n",
       "        text-align: right;\n",
       "    }\n",
       "</style>\n",
       "<table border=\"1\" class=\"dataframe\">\n",
       "  <thead>\n",
       "    <tr style=\"text-align: right;\">\n",
       "      <th></th>\n",
       "      <th>Title</th>\n",
       "      <th>Features.Handheld?</th>\n",
       "      <th>Features.Max Players</th>\n",
       "      <th>Features.Multiplatform?</th>\n",
       "      <th>Features.Online?</th>\n",
       "      <th>Metadata.Genres</th>\n",
       "      <th>Metadata.Licensed?</th>\n",
       "      <th>Metadata.Publishers</th>\n",
       "      <th>Metadata.Sequel?</th>\n",
       "      <th>Metrics.Review Score</th>\n",
       "      <th>...</th>\n",
       "      <th>Length.Main + Extras.Average</th>\n",
       "      <th>Length.Main + Extras.Leisure</th>\n",
       "      <th>Length.Main + Extras.Median</th>\n",
       "      <th>Length.Main + Extras.Polled</th>\n",
       "      <th>Length.Main + Extras.Rushed</th>\n",
       "      <th>Length.Main Story.Average</th>\n",
       "      <th>Length.Main Story.Leisure</th>\n",
       "      <th>Length.Main Story.Median</th>\n",
       "      <th>Length.Main Story.Polled</th>\n",
       "      <th>Length.Main Story.Rushed</th>\n",
       "    </tr>\n",
       "  </thead>\n",
       "  <tbody>\n",
       "    <tr>\n",
       "      <th>0</th>\n",
       "      <td>Super Mario 64 DS</td>\n",
       "      <td>True</td>\n",
       "      <td>1</td>\n",
       "      <td>True</td>\n",
       "      <td>True</td>\n",
       "      <td>Action</td>\n",
       "      <td>True</td>\n",
       "      <td>Nintendo</td>\n",
       "      <td>True</td>\n",
       "      <td>85</td>\n",
       "      <td>...</td>\n",
       "      <td>24.916667</td>\n",
       "      <td>29.966667</td>\n",
       "      <td>25.000000</td>\n",
       "      <td>16</td>\n",
       "      <td>18.333333</td>\n",
       "      <td>14.333333</td>\n",
       "      <td>18.316667</td>\n",
       "      <td>14.500000</td>\n",
       "      <td>21</td>\n",
       "      <td>9.700000</td>\n",
       "    </tr>\n",
       "    <tr>\n",
       "      <th>1</th>\n",
       "      <td>Lumines: Puzzle Fusion</td>\n",
       "      <td>True</td>\n",
       "      <td>1</td>\n",
       "      <td>True</td>\n",
       "      <td>True</td>\n",
       "      <td>Strategy</td>\n",
       "      <td>True</td>\n",
       "      <td>Ubisoft</td>\n",
       "      <td>True</td>\n",
       "      <td>89</td>\n",
       "      <td>...</td>\n",
       "      <td>9.750000</td>\n",
       "      <td>9.866667</td>\n",
       "      <td>9.750000</td>\n",
       "      <td>2</td>\n",
       "      <td>9.616667</td>\n",
       "      <td>10.333333</td>\n",
       "      <td>11.083333</td>\n",
       "      <td>10.000000</td>\n",
       "      <td>3</td>\n",
       "      <td>9.583333</td>\n",
       "    </tr>\n",
       "    <tr>\n",
       "      <th>2</th>\n",
       "      <td>WarioWare Touched!</td>\n",
       "      <td>True</td>\n",
       "      <td>2</td>\n",
       "      <td>True</td>\n",
       "      <td>True</td>\n",
       "      <td>Action,Racing / Driving,Sports</td>\n",
       "      <td>True</td>\n",
       "      <td>Nintendo</td>\n",
       "      <td>True</td>\n",
       "      <td>81</td>\n",
       "      <td>...</td>\n",
       "      <td>3.850000</td>\n",
       "      <td>5.666667</td>\n",
       "      <td>3.333333</td>\n",
       "      <td>11</td>\n",
       "      <td>2.783333</td>\n",
       "      <td>1.916667</td>\n",
       "      <td>2.933333</td>\n",
       "      <td>1.833333</td>\n",
       "      <td>30</td>\n",
       "      <td>1.433333</td>\n",
       "    </tr>\n",
       "    <tr>\n",
       "      <th>3</th>\n",
       "      <td>Hot Shots Golf: Open Tee</td>\n",
       "      <td>True</td>\n",
       "      <td>1</td>\n",
       "      <td>True</td>\n",
       "      <td>True</td>\n",
       "      <td>Sports</td>\n",
       "      <td>True</td>\n",
       "      <td>Sony</td>\n",
       "      <td>True</td>\n",
       "      <td>81</td>\n",
       "      <td>...</td>\n",
       "      <td>0.000000</td>\n",
       "      <td>0.000000</td>\n",
       "      <td>0.000000</td>\n",
       "      <td>0</td>\n",
       "      <td>0.000000</td>\n",
       "      <td>0.000000</td>\n",
       "      <td>0.000000</td>\n",
       "      <td>0.000000</td>\n",
       "      <td>0</td>\n",
       "      <td>0.000000</td>\n",
       "    </tr>\n",
       "    <tr>\n",
       "      <th>4</th>\n",
       "      <td>Spider-Man 2</td>\n",
       "      <td>True</td>\n",
       "      <td>1</td>\n",
       "      <td>True</td>\n",
       "      <td>True</td>\n",
       "      <td>Action</td>\n",
       "      <td>True</td>\n",
       "      <td>Activision</td>\n",
       "      <td>True</td>\n",
       "      <td>61</td>\n",
       "      <td>...</td>\n",
       "      <td>12.766667</td>\n",
       "      <td>17.316667</td>\n",
       "      <td>12.500000</td>\n",
       "      <td>12</td>\n",
       "      <td>10.483333</td>\n",
       "      <td>8.350000</td>\n",
       "      <td>11.083333</td>\n",
       "      <td>8.000000</td>\n",
       "      <td>23</td>\n",
       "      <td>5.333333</td>\n",
       "    </tr>\n",
       "  </tbody>\n",
       "</table>\n",
       "<p>5 rows × 36 columns</p>\n",
       "</div>"
      ],
      "text/plain": [
       "                      Title  Features.Handheld?  Features.Max Players  \\\n",
       "0         Super Mario 64 DS                True                     1   \n",
       "1    Lumines: Puzzle Fusion                True                     1   \n",
       "2        WarioWare Touched!                True                     2   \n",
       "3  Hot Shots Golf: Open Tee                True                     1   \n",
       "4              Spider-Man 2                True                     1   \n",
       "\n",
       "   Features.Multiplatform?  Features.Online?                 Metadata.Genres  \\\n",
       "0                     True              True                          Action   \n",
       "1                     True              True                        Strategy   \n",
       "2                     True              True  Action,Racing / Driving,Sports   \n",
       "3                     True              True                          Sports   \n",
       "4                     True              True                          Action   \n",
       "\n",
       "   Metadata.Licensed? Metadata.Publishers  Metadata.Sequel?  \\\n",
       "0                True            Nintendo              True   \n",
       "1                True             Ubisoft              True   \n",
       "2                True            Nintendo              True   \n",
       "3                True                Sony              True   \n",
       "4                True          Activision              True   \n",
       "\n",
       "   Metrics.Review Score  ...  Length.Main + Extras.Average  \\\n",
       "0                    85  ...                     24.916667   \n",
       "1                    89  ...                      9.750000   \n",
       "2                    81  ...                      3.850000   \n",
       "3                    81  ...                      0.000000   \n",
       "4                    61  ...                     12.766667   \n",
       "\n",
       "   Length.Main + Extras.Leisure Length.Main + Extras.Median  \\\n",
       "0                     29.966667                   25.000000   \n",
       "1                      9.866667                    9.750000   \n",
       "2                      5.666667                    3.333333   \n",
       "3                      0.000000                    0.000000   \n",
       "4                     17.316667                   12.500000   \n",
       "\n",
       "  Length.Main + Extras.Polled  Length.Main + Extras.Rushed  \\\n",
       "0                          16                    18.333333   \n",
       "1                           2                     9.616667   \n",
       "2                          11                     2.783333   \n",
       "3                           0                     0.000000   \n",
       "4                          12                    10.483333   \n",
       "\n",
       "   Length.Main Story.Average  Length.Main Story.Leisure  \\\n",
       "0                  14.333333                  18.316667   \n",
       "1                  10.333333                  11.083333   \n",
       "2                   1.916667                   2.933333   \n",
       "3                   0.000000                   0.000000   \n",
       "4                   8.350000                  11.083333   \n",
       "\n",
       "   Length.Main Story.Median  Length.Main Story.Polled  \\\n",
       "0                 14.500000                        21   \n",
       "1                 10.000000                         3   \n",
       "2                  1.833333                        30   \n",
       "3                  0.000000                         0   \n",
       "4                  8.000000                        23   \n",
       "\n",
       "   Length.Main Story.Rushed  \n",
       "0                  9.700000  \n",
       "1                  9.583333  \n",
       "2                  1.433333  \n",
       "3                  0.000000  \n",
       "4                  5.333333  \n",
       "\n",
       "[5 rows x 36 columns]"
      ]
     },
     "execution_count": 10,
     "metadata": {},
     "output_type": "execute_result"
    }
   ],
   "source": [
    "dforiginal = pd.read_csv('video_games.csv')\n",
    "dforiginal.head()"
   ]
  },
  {
   "cell_type": "code",
   "execution_count": 11,
   "metadata": {},
   "outputs": [
    {
     "name": "stdout",
     "output_type": "stream",
     "text": [
      "Dimensions of dataframe: (1212, 36)\n"
     ]
    }
   ],
   "source": [
    "print('Dimensions of dataframe:',dforiginal.shape)"
   ]
  },
  {
   "cell_type": "code",
   "execution_count": 12,
   "metadata": {},
   "outputs": [
    {
     "data": {
      "text/html": [
       "<div>\n",
       "<style scoped>\n",
       "    .dataframe tbody tr th:only-of-type {\n",
       "        vertical-align: middle;\n",
       "    }\n",
       "\n",
       "    .dataframe tbody tr th {\n",
       "        vertical-align: top;\n",
       "    }\n",
       "\n",
       "    .dataframe thead th {\n",
       "        text-align: right;\n",
       "    }\n",
       "</style>\n",
       "<table border=\"1\" class=\"dataframe\">\n",
       "  <thead>\n",
       "    <tr style=\"text-align: right;\">\n",
       "      <th></th>\n",
       "      <th>Metrics.Review Score</th>\n",
       "      <th>Release.Rating</th>\n",
       "      <th>Length.Main Story.Polled</th>\n",
       "      <th>Metrics.Sales</th>\n",
       "      <th>Length.All PlayStyles.Average</th>\n",
       "    </tr>\n",
       "  </thead>\n",
       "  <tbody>\n",
       "    <tr>\n",
       "      <th>0</th>\n",
       "      <td>85</td>\n",
       "      <td>E</td>\n",
       "      <td>21</td>\n",
       "      <td>4.69</td>\n",
       "      <td>22.716667</td>\n",
       "    </tr>\n",
       "    <tr>\n",
       "      <th>1</th>\n",
       "      <td>89</td>\n",
       "      <td>E</td>\n",
       "      <td>3</td>\n",
       "      <td>0.56</td>\n",
       "      <td>10.100000</td>\n",
       "    </tr>\n",
       "    <tr>\n",
       "      <th>2</th>\n",
       "      <td>81</td>\n",
       "      <td>E</td>\n",
       "      <td>30</td>\n",
       "      <td>0.54</td>\n",
       "      <td>4.566667</td>\n",
       "    </tr>\n",
       "    <tr>\n",
       "      <th>3</th>\n",
       "      <td>81</td>\n",
       "      <td>E</td>\n",
       "      <td>0</td>\n",
       "      <td>0.49</td>\n",
       "      <td>0.000000</td>\n",
       "    </tr>\n",
       "    <tr>\n",
       "      <th>4</th>\n",
       "      <td>61</td>\n",
       "      <td>E</td>\n",
       "      <td>23</td>\n",
       "      <td>0.45</td>\n",
       "      <td>13.250000</td>\n",
       "    </tr>\n",
       "  </tbody>\n",
       "</table>\n",
       "</div>"
      ],
      "text/plain": [
       "   Metrics.Review Score Release.Rating  Length.Main Story.Polled  \\\n",
       "0                    85              E                        21   \n",
       "1                    89              E                         3   \n",
       "2                    81              E                        30   \n",
       "3                    81              E                         0   \n",
       "4                    61              E                        23   \n",
       "\n",
       "   Metrics.Sales  Length.All PlayStyles.Average  \n",
       "0           4.69                      22.716667  \n",
       "1           0.56                      10.100000  \n",
       "2           0.54                       4.566667  \n",
       "3           0.49                       0.000000  \n",
       "4           0.45                      13.250000  "
      ]
     },
     "execution_count": 12,
     "metadata": {},
     "output_type": "execute_result"
    }
   ],
   "source": [
    "# Selecting Our Explanatory Variables\n",
    "dfselect = dforiginal[['Metrics.Review Score','Release.Rating','Length.Main Story.Polled','Metrics.Sales','Length.All PlayStyles.Average']]\n",
    "dfselect.head()"
   ]
  },
  {
   "cell_type": "markdown",
   "metadata": {},
   "source": []
  },
  {
   "cell_type": "markdown",
   "metadata": {},
   "source": [
    "## 3. Dataset Cleaning"
   ]
  },
  {
   "cell_type": "markdown",
   "metadata": {},
   "source": []
  },
  {
   "cell_type": "code",
   "execution_count": 13,
   "metadata": {},
   "outputs": [
    {
     "name": "stdout",
     "output_type": "stream",
     "text": [
      "Number of Rows Dropped: 0\n"
     ]
    },
    {
     "data": {
      "text/html": [
       "<div>\n",
       "<style scoped>\n",
       "    .dataframe tbody tr th:only-of-type {\n",
       "        vertical-align: middle;\n",
       "    }\n",
       "\n",
       "    .dataframe tbody tr th {\n",
       "        vertical-align: top;\n",
       "    }\n",
       "\n",
       "    .dataframe thead th {\n",
       "        text-align: right;\n",
       "    }\n",
       "</style>\n",
       "<table border=\"1\" class=\"dataframe\">\n",
       "  <thead>\n",
       "    <tr style=\"text-align: right;\">\n",
       "      <th></th>\n",
       "      <th>Metrics.Review Score</th>\n",
       "      <th>Release.Rating</th>\n",
       "      <th>Length.Main Story.Polled</th>\n",
       "      <th>Metrics.Sales</th>\n",
       "      <th>Length.All PlayStyles.Average</th>\n",
       "    </tr>\n",
       "  </thead>\n",
       "  <tbody>\n",
       "    <tr>\n",
       "      <th>0</th>\n",
       "      <td>85</td>\n",
       "      <td>E</td>\n",
       "      <td>21</td>\n",
       "      <td>4.69</td>\n",
       "      <td>22.716667</td>\n",
       "    </tr>\n",
       "    <tr>\n",
       "      <th>1</th>\n",
       "      <td>89</td>\n",
       "      <td>E</td>\n",
       "      <td>3</td>\n",
       "      <td>0.56</td>\n",
       "      <td>10.100000</td>\n",
       "    </tr>\n",
       "    <tr>\n",
       "      <th>2</th>\n",
       "      <td>81</td>\n",
       "      <td>E</td>\n",
       "      <td>30</td>\n",
       "      <td>0.54</td>\n",
       "      <td>4.566667</td>\n",
       "    </tr>\n",
       "    <tr>\n",
       "      <th>3</th>\n",
       "      <td>81</td>\n",
       "      <td>E</td>\n",
       "      <td>0</td>\n",
       "      <td>0.49</td>\n",
       "      <td>0.000000</td>\n",
       "    </tr>\n",
       "    <tr>\n",
       "      <th>4</th>\n",
       "      <td>61</td>\n",
       "      <td>E</td>\n",
       "      <td>23</td>\n",
       "      <td>0.45</td>\n",
       "      <td>13.250000</td>\n",
       "    </tr>\n",
       "  </tbody>\n",
       "</table>\n",
       "</div>"
      ],
      "text/plain": [
       "   Metrics.Review Score Release.Rating  Length.Main Story.Polled  \\\n",
       "0                    85              E                        21   \n",
       "1                    89              E                         3   \n",
       "2                    81              E                        30   \n",
       "3                    81              E                         0   \n",
       "4                    61              E                        23   \n",
       "\n",
       "   Metrics.Sales  Length.All PlayStyles.Average  \n",
       "0           4.69                      22.716667  \n",
       "1           0.56                      10.100000  \n",
       "2           0.54                       4.566667  \n",
       "3           0.49                       0.000000  \n",
       "4           0.45                      13.250000  "
      ]
     },
     "execution_count": 13,
     "metadata": {},
     "output_type": "execute_result"
    }
   ],
   "source": [
    "df = dfselect.dropna()\n",
    "print('Number of Rows Dropped:',len(dfselect)-len(df))\n",
    "df.head()"
   ]
  },
  {
   "cell_type": "code",
   "execution_count": null,
   "metadata": {},
   "outputs": [],
   "source": []
  },
  {
   "cell_type": "code",
   "execution_count": null,
   "metadata": {},
   "outputs": [],
   "source": []
  },
  {
   "cell_type": "code",
   "execution_count": null,
   "metadata": {},
   "outputs": [],
   "source": []
  },
  {
   "cell_type": "code",
   "execution_count": null,
   "metadata": {},
   "outputs": [],
   "source": []
  },
  {
   "cell_type": "code",
   "execution_count": null,
   "metadata": {},
   "outputs": [],
   "source": []
  },
  {
   "cell_type": "code",
   "execution_count": null,
   "metadata": {},
   "outputs": [],
   "source": []
  },
  {
   "cell_type": "code",
   "execution_count": null,
   "metadata": {},
   "outputs": [],
   "source": []
  },
  {
   "cell_type": "code",
   "execution_count": null,
   "metadata": {},
   "outputs": [],
   "source": []
  },
  {
   "cell_type": "code",
   "execution_count": null,
   "metadata": {},
   "outputs": [],
   "source": []
  },
  {
   "cell_type": "code",
   "execution_count": null,
   "metadata": {},
   "outputs": [],
   "source": []
  },
  {
   "cell_type": "code",
   "execution_count": null,
   "metadata": {},
   "outputs": [],
   "source": []
  },
  {
   "cell_type": "markdown",
   "metadata": {},
   "source": []
  },
  {
   "cell_type": "markdown",
   "metadata": {},
   "source": [
    "## 4. Preliminary Analysis"
   ]
  },
  {
   "cell_type": "markdown",
   "metadata": {},
   "source": []
  },
  {
   "cell_type": "code",
   "execution_count": null,
   "metadata": {},
   "outputs": [],
   "source": []
  },
  {
   "cell_type": "code",
   "execution_count": null,
   "metadata": {},
   "outputs": [],
   "source": []
  },
  {
   "cell_type": "code",
   "execution_count": null,
   "metadata": {},
   "outputs": [],
   "source": []
  },
  {
   "cell_type": "code",
   "execution_count": null,
   "metadata": {},
   "outputs": [],
   "source": []
  },
  {
   "cell_type": "code",
   "execution_count": null,
   "metadata": {},
   "outputs": [],
   "source": []
  },
  {
   "cell_type": "code",
   "execution_count": null,
   "metadata": {},
   "outputs": [],
   "source": []
  },
  {
   "cell_type": "code",
   "execution_count": null,
   "metadata": {},
   "outputs": [],
   "source": []
  },
  {
   "cell_type": "code",
   "execution_count": null,
   "metadata": {},
   "outputs": [],
   "source": []
  },
  {
   "cell_type": "code",
   "execution_count": null,
   "metadata": {},
   "outputs": [],
   "source": []
  },
  {
   "cell_type": "code",
   "execution_count": null,
   "metadata": {},
   "outputs": [],
   "source": []
  },
  {
   "cell_type": "code",
   "execution_count": null,
   "metadata": {},
   "outputs": [],
   "source": []
  },
  {
   "cell_type": "code",
   "execution_count": null,
   "metadata": {},
   "outputs": [],
   "source": []
  },
  {
   "cell_type": "code",
   "execution_count": null,
   "metadata": {},
   "outputs": [],
   "source": []
  },
  {
   "cell_type": "code",
   "execution_count": null,
   "metadata": {},
   "outputs": [],
   "source": []
  },
  {
   "cell_type": "code",
   "execution_count": null,
   "metadata": {},
   "outputs": [],
   "source": []
  },
  {
   "cell_type": "code",
   "execution_count": null,
   "metadata": {},
   "outputs": [],
   "source": []
  },
  {
   "cell_type": "markdown",
   "metadata": {},
   "source": []
  },
  {
   "cell_type": "markdown",
   "metadata": {},
   "source": [
    "## 5. Model Data Preprocessing"
   ]
  },
  {
   "cell_type": "markdown",
   "metadata": {},
   "source": []
  },
  {
   "cell_type": "code",
   "execution_count": null,
   "metadata": {},
   "outputs": [],
   "source": []
  },
  {
   "cell_type": "code",
   "execution_count": null,
   "metadata": {},
   "outputs": [],
   "source": []
  },
  {
   "cell_type": "code",
   "execution_count": null,
   "metadata": {},
   "outputs": [],
   "source": []
  },
  {
   "cell_type": "code",
   "execution_count": null,
   "metadata": {},
   "outputs": [],
   "source": []
  },
  {
   "cell_type": "markdown",
   "metadata": {},
   "source": []
  },
  {
   "cell_type": "markdown",
   "metadata": {},
   "source": [
    "## 6. Feature Selection with k-Fold Cross-Validation"
   ]
  },
  {
   "cell_type": "markdown",
   "metadata": {},
   "source": []
  },
  {
   "cell_type": "code",
   "execution_count": null,
   "metadata": {},
   "outputs": [],
   "source": []
  },
  {
   "cell_type": "code",
   "execution_count": null,
   "metadata": {},
   "outputs": [],
   "source": []
  },
  {
   "cell_type": "code",
   "execution_count": null,
   "metadata": {},
   "outputs": [],
   "source": []
  },
  {
   "cell_type": "code",
   "execution_count": null,
   "metadata": {},
   "outputs": [],
   "source": []
  },
  {
   "cell_type": "code",
   "execution_count": null,
   "metadata": {},
   "outputs": [],
   "source": []
  },
  {
   "cell_type": "code",
   "execution_count": null,
   "metadata": {},
   "outputs": [],
   "source": []
  },
  {
   "cell_type": "code",
   "execution_count": null,
   "metadata": {},
   "outputs": [],
   "source": []
  },
  {
   "cell_type": "code",
   "execution_count": null,
   "metadata": {},
   "outputs": [],
   "source": []
  },
  {
   "cell_type": "code",
   "execution_count": null,
   "metadata": {},
   "outputs": [],
   "source": []
  },
  {
   "cell_type": "code",
   "execution_count": null,
   "metadata": {},
   "outputs": [],
   "source": []
  },
  {
   "cell_type": "code",
   "execution_count": null,
   "metadata": {},
   "outputs": [],
   "source": []
  },
  {
   "cell_type": "code",
   "execution_count": null,
   "metadata": {},
   "outputs": [],
   "source": []
  },
  {
   "cell_type": "code",
   "execution_count": null,
   "metadata": {},
   "outputs": [],
   "source": []
  },
  {
   "cell_type": "code",
   "execution_count": null,
   "metadata": {},
   "outputs": [],
   "source": []
  },
  {
   "cell_type": "code",
   "execution_count": null,
   "metadata": {},
   "outputs": [],
   "source": []
  },
  {
   "cell_type": "code",
   "execution_count": null,
   "metadata": {},
   "outputs": [],
   "source": []
  },
  {
   "cell_type": "markdown",
   "metadata": {},
   "source": []
  },
  {
   "cell_type": "markdown",
   "metadata": {},
   "source": [
    "## 7. Best Model Discussion"
   ]
  },
  {
   "cell_type": "markdown",
   "metadata": {},
   "source": []
  },
  {
   "cell_type": "code",
   "execution_count": null,
   "metadata": {},
   "outputs": [],
   "source": []
  },
  {
   "cell_type": "code",
   "execution_count": null,
   "metadata": {},
   "outputs": [],
   "source": []
  },
  {
   "cell_type": "code",
   "execution_count": null,
   "metadata": {},
   "outputs": [],
   "source": []
  },
  {
   "cell_type": "code",
   "execution_count": null,
   "metadata": {},
   "outputs": [],
   "source": []
  },
  {
   "cell_type": "code",
   "execution_count": null,
   "metadata": {},
   "outputs": [],
   "source": []
  },
  {
   "cell_type": "code",
   "execution_count": null,
   "metadata": {},
   "outputs": [],
   "source": []
  },
  {
   "cell_type": "code",
   "execution_count": null,
   "metadata": {},
   "outputs": [],
   "source": []
  },
  {
   "cell_type": "code",
   "execution_count": null,
   "metadata": {},
   "outputs": [],
   "source": []
  },
  {
   "cell_type": "code",
   "execution_count": null,
   "metadata": {},
   "outputs": [],
   "source": []
  },
  {
   "cell_type": "code",
   "execution_count": null,
   "metadata": {},
   "outputs": [],
   "source": []
  },
  {
   "cell_type": "code",
   "execution_count": null,
   "metadata": {},
   "outputs": [],
   "source": []
  },
  {
   "cell_type": "markdown",
   "metadata": {},
   "source": []
  },
  {
   "cell_type": "markdown",
   "metadata": {},
   "source": [
    "## 8. Additional Analysis/Insight"
   ]
  },
  {
   "cell_type": "markdown",
   "metadata": {},
   "source": []
  },
  {
   "cell_type": "code",
   "execution_count": null,
   "metadata": {},
   "outputs": [],
   "source": []
  },
  {
   "cell_type": "code",
   "execution_count": null,
   "metadata": {},
   "outputs": [],
   "source": []
  },
  {
   "cell_type": "code",
   "execution_count": null,
   "metadata": {},
   "outputs": [],
   "source": []
  },
  {
   "cell_type": "code",
   "execution_count": null,
   "metadata": {},
   "outputs": [],
   "source": []
  },
  {
   "cell_type": "code",
   "execution_count": null,
   "metadata": {},
   "outputs": [],
   "source": []
  },
  {
   "cell_type": "code",
   "execution_count": null,
   "metadata": {},
   "outputs": [],
   "source": []
  },
  {
   "cell_type": "markdown",
   "metadata": {},
   "source": []
  },
  {
   "cell_type": "markdown",
   "metadata": {},
   "source": [
    "## 9. Conclusion"
   ]
  },
  {
   "cell_type": "markdown",
   "metadata": {},
   "source": []
  },
  {
   "cell_type": "markdown",
   "metadata": {},
   "source": [
    "## References"
   ]
  },
  {
   "cell_type": "markdown",
   "metadata": {},
   "source": []
  }
 ],
 "metadata": {
  "kernelspec": {
   "display_name": "Python 3 (ipykernel)",
   "language": "python",
   "name": "python3"
  },
  "language_info": {
   "codemirror_mode": {
    "name": "ipython",
    "version": 3
   },
   "file_extension": ".py",
   "mimetype": "text/x-python",
   "name": "python",
   "nbconvert_exporter": "python",
   "pygments_lexer": "ipython3",
   "version": "3.11.1"
  }
 },
 "nbformat": 4,
 "nbformat_minor": 4
}
